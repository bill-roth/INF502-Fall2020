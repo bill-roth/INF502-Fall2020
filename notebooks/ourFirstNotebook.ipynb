{
 "cells": [
  {
   "cell_type": "markdown",
   "metadata": {},
   "source": [
    "### First class of Jupyter\n",
    "\n",
    "This is just an example of Jupyter Markdown\n",
    "\n",
    "First, we are creating a linst, called ```list_of_number``` with 5 values\n",
    "\n",
    "Then, the function ```len``` is returning the length of the list (printing it)"
   ]
  },
  {
   "cell_type": "code",
   "execution_count": null,
   "metadata": {},
   "outputs": [],
   "source": [
    "list_of_numbers = [1,2,3,44,5]\n",
    "print(len(list_of_numbers))"
   ]
  },
  {
   "cell_type": "code",
   "execution_count": null,
   "metadata": {},
   "outputs": [],
   "source": [
    "print(list_of_numbers[3])"
   ]
  },
  {
   "cell_type": "code",
   "execution_count": null,
   "metadata": {},
   "outputs": [],
   "source": [
    "import time\n",
    "\n",
    "for element in list_of_numbers:\n",
    "    print (element)\n",
    "    time.sleep(2)"
   ]
  },
  {
   "cell_type": "code",
   "execution_count": null,
   "metadata": {},
   "outputs": [],
   "source": [
    "my_file = open('lines.csv', 'r')"
   ]
  },
  {
   "cell_type": "code",
   "execution_count": null,
   "metadata": {},
   "outputs": [],
   "source": [
    "print(my_file.read())"
   ]
  },
  {
   "cell_type": "code",
   "execution_count": null,
   "metadata": {},
   "outputs": [],
   "source": [
    "import os"
   ]
  },
  {
   "cell_type": "code",
   "execution_count": null,
   "metadata": {},
   "outputs": [],
   "source": [
    "def print_main_window():\n",
    "    os.system('clear')\n",
    "    print(\"\\t********************************************\")\n",
    "    print(\"\\t***  Manipulating a List! There we go     **\")\n",
    "    print(\"\\t********************************************\")\n",
    "    print(\"\\n\\n\\n\") #3 line breaks\n",
    "    print(\"Choose an option as follows: \")\n",
    "    print(\"[1] Add a number to the list\")\n",
    "    print(\"[2] List the numbers\")\n",
    "    print(\"[3] Clear the list\")\n",
    "    print(\"[4] EXIT\")"
   ]
  },
  {
   "cell_type": "code",
   "execution_count": null,
   "metadata": {},
   "outputs": [],
   "source": [
    "def list_the_numbers (list1):\n",
    "    print(\"This list contains \", len(list1), \" elements, as follows:\")\n",
    "    for element in list1:\n",
    "        print (element)"
   ]
  },
  {
   "cell_type": "code",
   "execution_count": null,
   "metadata": {},
   "outputs": [],
   "source": [
    "list_numbers = []\n",
    "\n",
    "while (True):\n",
    "    print_main_window()\n",
    "    option = int(input(\"Your option: \"))\n",
    "    if (option == 1):\n",
    "        number = int(input(\"Type the number you want to add: \"))\n",
    "        list_numbers.append(number)\n",
    "        print(number, \" added to your list\")\n",
    "    elif (option == 2):\n",
    "        list_the_numbers(list_numbers)\n",
    "    elif (option == 3):\n",
    "        list_numbers.clear()\n",
    "        print(\"The list is now empty!\")\n",
    "    elif (option == 4):\n",
    "        print(\"Thanks for using our application\")\n",
    "        break\n",
    "    else:\n",
    "        print (\"Invalid option. \")"
   ]
  },
  {
   "cell_type": "code",
   "execution_count": 11,
   "metadata": {},
   "outputs": [],
   "source": [
    "import csv"
   ]
  },
  {
   "cell_type": "markdown",
   "metadata": {},
   "source": [
    "Opening the file ```titanic.csv``` for reading.\n",
    "\n",
    "```titanic = open('titaninc.csv','r')```\n",
    "\n",
    "csv_reader is helping to read the csv file.\n",
    "In a for loop we are reading each of the rows in the file and appending to the list called ```rows```\n",
    "\n",
    "At the end we are printing the first five rows of the file spliting the fields by tabs."
   ]
  },
  {
   "cell_type": "code",
   "execution_count": 20,
   "metadata": {
    "scrolled": true
   },
   "outputs": [
    {
     "name": "stdout",
     "output_type": "stream",
     "text": [
      "Total no of rows is 892. And something else\n",
      "['1', '0', '3', 'Braund, Mr. Owen Harris', 'male', '22', '1', '0', 'A/5 21171', '7.25', '', 'S']\n",
      "['PassengerId', 'Survived', 'Pclass', 'Name', 'Sex', 'Age', 'SibSp', 'Parch', 'Ticket', 'Fare', 'Cabin', 'Embarked']\n",
      "1\t0\t3\tBraund, Mr. Owen Harris\tmale\t\n",
      "\n",
      "2\t1\t1\tCumings, Mrs. John Bradley (Florence Briggs Thayer)\tfemale\t\n",
      "\n",
      "3\t1\t3\tHeikkinen, Miss. Laina\tfemale\t\n",
      "\n",
      "4\t1\t1\tFutrelle, Mrs. Jacques Heath (Lily May Peel)\tfemale\t\n",
      "\n",
      "5\t0\t3\tAllen, Mr. William Henry\tmale\t\n",
      "\n"
     ]
    }
   ],
   "source": [
    "rows = []\n",
    "\n",
    "with open('titanic.csv','r') as titanic:\n",
    "    csv_reader = csv.reader(titanic)\n",
    "    \n",
    "    fields = next(csv_reader)\n",
    "    \n",
    "    for row in csv_reader:\n",
    "        rows.append(row)\n",
    "    \n",
    "    print (\"Total no of rows is %d. And something else\"%(csv_reader.line_num))\n",
    "    print(rows[0])\n",
    "    print(fields)\n",
    "    for row in rows[:5]:\n",
    "        for col in row[:5]:\n",
    "            print (col, end=\"\\t\")\n",
    "        print('\\n')\n",
    "    "
   ]
  }
 ],
 "metadata": {
  "kernelspec": {
   "display_name": "Python 3",
   "language": "python",
   "name": "python3"
  },
  "language_info": {
   "codemirror_mode": {
    "name": "ipython",
    "version": 3
   },
   "file_extension": ".py",
   "mimetype": "text/x-python",
   "name": "python",
   "nbconvert_exporter": "python",
   "pygments_lexer": "ipython3",
   "version": "3.7.6"
  }
 },
 "nbformat": 4,
 "nbformat_minor": 2
}
